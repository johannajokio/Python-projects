{
 "cells": [
  {
   "cell_type": "markdown",
   "metadata": {},
   "source": [
    "# Exploring income data using Python \n",
    "\n",
    "### Cleaning, slicing and graphing data with pandas and matplotlib packages \n",
    "\n",
    "#### Data source: Scottish Government Local Level Average Household Income Estimates 2014"
   ]
  },
  {
   "cell_type": "code",
   "execution_count": 1,
   "metadata": {},
   "outputs": [],
   "source": [
    "import pandas as pd"
   ]
  },
  {
   "cell_type": "code",
   "execution_count": 2,
   "metadata": {},
   "outputs": [],
   "source": [
    "import glob"
   ]
  },
  {
   "cell_type": "code",
   "execution_count": 4,
   "metadata": {},
   "outputs": [],
   "source": [
    "import matplotlib.pyplot as plt"
   ]
  },
  {
   "cell_type": "code",
   "execution_count": 65,
   "metadata": {},
   "outputs": [],
   "source": [
    "# read in csv data\n",
    "\n",
    "df = pd.read_csv(r\"C:\\Users\\johan\\incomedata\\Local Level Average Household Income Estimates 2014.csv\")\n"
   ]
  },
  {
   "cell_type": "code",
   "execution_count": 66,
   "metadata": {},
   "outputs": [
    {
     "data": {
      "text/html": [
       "<div>\n",
       "<style scoped>\n",
       "    .dataframe tbody tr th:only-of-type {\n",
       "        vertical-align: middle;\n",
       "    }\n",
       "\n",
       "    .dataframe tbody tr th {\n",
       "        vertical-align: top;\n",
       "    }\n",
       "\n",
       "    .dataframe thead th {\n",
       "        text-align: right;\n",
       "    }\n",
       "</style>\n",
       "<table border=\"1\" class=\"dataframe\">\n",
       "  <thead>\n",
       "    <tr style=\"text-align: right;\">\n",
       "      <th></th>\n",
       "      <th>FeatureCode</th>\n",
       "      <th>DateCode</th>\n",
       "      <th>Measurement</th>\n",
       "      <th>Units</th>\n",
       "      <th>Value</th>\n",
       "    </tr>\n",
       "  </thead>\n",
       "  <tbody>\n",
       "    <tr>\n",
       "      <th>0</th>\n",
       "      <td>S01008830</td>\n",
       "      <td>2014</td>\n",
       "      <td>Median</td>\n",
       "      <td>Pounds (GBP)</td>\n",
       "      <td>659.91</td>\n",
       "    </tr>\n",
       "    <tr>\n",
       "      <th>1</th>\n",
       "      <td>S01008831</td>\n",
       "      <td>2014</td>\n",
       "      <td>Median</td>\n",
       "      <td>Pounds (GBP)</td>\n",
       "      <td>632.69</td>\n",
       "    </tr>\n",
       "    <tr>\n",
       "      <th>2</th>\n",
       "      <td>S01008828</td>\n",
       "      <td>2014</td>\n",
       "      <td>Median</td>\n",
       "      <td>Pounds (GBP)</td>\n",
       "      <td>649.25</td>\n",
       "    </tr>\n",
       "    <tr>\n",
       "      <th>3</th>\n",
       "      <td>S01008829</td>\n",
       "      <td>2014</td>\n",
       "      <td>Median</td>\n",
       "      <td>Pounds (GBP)</td>\n",
       "      <td>673.90</td>\n",
       "    </tr>\n",
       "    <tr>\n",
       "      <th>4</th>\n",
       "      <td>S01008833</td>\n",
       "      <td>2014</td>\n",
       "      <td>Median</td>\n",
       "      <td>Pounds (GBP)</td>\n",
       "      <td>599.62</td>\n",
       "    </tr>\n",
       "  </tbody>\n",
       "</table>\n",
       "</div>"
      ],
      "text/plain": [
       "  FeatureCode  DateCode Measurement         Units   Value\n",
       "0   S01008830      2014      Median  Pounds (GBP)  659.91\n",
       "1   S01008831      2014      Median  Pounds (GBP)  632.69\n",
       "2   S01008828      2014      Median  Pounds (GBP)  649.25\n",
       "3   S01008829      2014      Median  Pounds (GBP)  673.90\n",
       "4   S01008833      2014      Median  Pounds (GBP)  599.62"
      ]
     },
     "execution_count": 66,
     "metadata": {},
     "output_type": "execute_result"
    }
   ],
   "source": [
    "df.head()"
   ]
  },
  {
   "cell_type": "code",
   "execution_count": 8,
   "metadata": {},
   "outputs": [
    {
     "data": {
      "text/plain": [
       "(13940, 5)"
      ]
     },
     "execution_count": 8,
     "metadata": {},
     "output_type": "execute_result"
    }
   ],
   "source": [
    "df.shape"
   ]
  },
  {
   "cell_type": "code",
   "execution_count": 68,
   "metadata": {},
   "outputs": [
    {
     "data": {
      "text/html": [
       "<div>\n",
       "<style scoped>\n",
       "    .dataframe tbody tr th:only-of-type {\n",
       "        vertical-align: middle;\n",
       "    }\n",
       "\n",
       "    .dataframe tbody tr th {\n",
       "        vertical-align: top;\n",
       "    }\n",
       "\n",
       "    .dataframe thead th {\n",
       "        text-align: right;\n",
       "    }\n",
       "</style>\n",
       "<table border=\"1\" class=\"dataframe\">\n",
       "  <thead>\n",
       "    <tr style=\"text-align: right;\">\n",
       "      <th></th>\n",
       "      <th>DateCode</th>\n",
       "      <th>Value</th>\n",
       "    </tr>\n",
       "  </thead>\n",
       "  <tbody>\n",
       "    <tr>\n",
       "      <th>count</th>\n",
       "      <td>13940.0</td>\n",
       "      <td>13940.000000</td>\n",
       "    </tr>\n",
       "    <tr>\n",
       "      <th>mean</th>\n",
       "      <td>2014.0</td>\n",
       "      <td>636.923443</td>\n",
       "    </tr>\n",
       "    <tr>\n",
       "      <th>std</th>\n",
       "      <td>0.0</td>\n",
       "      <td>167.126590</td>\n",
       "    </tr>\n",
       "    <tr>\n",
       "      <th>min</th>\n",
       "      <td>2014.0</td>\n",
       "      <td>280.000000</td>\n",
       "    </tr>\n",
       "    <tr>\n",
       "      <th>25%</th>\n",
       "      <td>2014.0</td>\n",
       "      <td>517.517500</td>\n",
       "    </tr>\n",
       "    <tr>\n",
       "      <th>50%</th>\n",
       "      <td>2014.0</td>\n",
       "      <td>605.970000</td>\n",
       "    </tr>\n",
       "    <tr>\n",
       "      <th>75%</th>\n",
       "      <td>2014.0</td>\n",
       "      <td>728.775000</td>\n",
       "    </tr>\n",
       "    <tr>\n",
       "      <th>max</th>\n",
       "      <td>2014.0</td>\n",
       "      <td>1559.400000</td>\n",
       "    </tr>\n",
       "  </tbody>\n",
       "</table>\n",
       "</div>"
      ],
      "text/plain": [
       "       DateCode         Value\n",
       "count   13940.0  13940.000000\n",
       "mean     2014.0    636.923443\n",
       "std         0.0    167.126590\n",
       "min      2014.0    280.000000\n",
       "25%      2014.0    517.517500\n",
       "50%      2014.0    605.970000\n",
       "75%      2014.0    728.775000\n",
       "max      2014.0   1559.400000"
      ]
     },
     "execution_count": 68,
     "metadata": {},
     "output_type": "execute_result"
    }
   ],
   "source": [
    "df.describe()"
   ]
  },
  {
   "cell_type": "code",
   "execution_count": 11,
   "metadata": {},
   "outputs": [
    {
     "data": {
      "text/plain": [
       "Mean      6970\n",
       "Median    6970\n",
       "Name: Measurement, dtype: int64"
      ]
     },
     "execution_count": 11,
     "metadata": {},
     "output_type": "execute_result"
    }
   ],
   "source": [
    "df['Measurement'].value_counts()"
   ]
  },
  {
   "cell_type": "code",
   "execution_count": 21,
   "metadata": {},
   "outputs": [
    {
     "data": {
      "text/html": [
       "<div>\n",
       "<style scoped>\n",
       "    .dataframe tbody tr th:only-of-type {\n",
       "        vertical-align: middle;\n",
       "    }\n",
       "\n",
       "    .dataframe tbody tr th {\n",
       "        vertical-align: top;\n",
       "    }\n",
       "\n",
       "    .dataframe thead th {\n",
       "        text-align: right;\n",
       "    }\n",
       "</style>\n",
       "<table border=\"1\" class=\"dataframe\">\n",
       "  <thead>\n",
       "    <tr style=\"text-align: right;\">\n",
       "      <th></th>\n",
       "      <th>FeatureCode</th>\n",
       "      <th>DateCode</th>\n",
       "      <th>Measurement</th>\n",
       "      <th>Units</th>\n",
       "      <th>Value</th>\n",
       "    </tr>\n",
       "  </thead>\n",
       "  <tbody>\n",
       "    <tr>\n",
       "      <th>0</th>\n",
       "      <td>S01008830</td>\n",
       "      <td>2014</td>\n",
       "      <td>Median</td>\n",
       "      <td>Pounds (GBP)</td>\n",
       "      <td>659.91</td>\n",
       "    </tr>\n",
       "    <tr>\n",
       "      <th>1</th>\n",
       "      <td>S01008831</td>\n",
       "      <td>2014</td>\n",
       "      <td>Median</td>\n",
       "      <td>Pounds (GBP)</td>\n",
       "      <td>632.69</td>\n",
       "    </tr>\n",
       "    <tr>\n",
       "      <th>2</th>\n",
       "      <td>S01008828</td>\n",
       "      <td>2014</td>\n",
       "      <td>Median</td>\n",
       "      <td>Pounds (GBP)</td>\n",
       "      <td>649.25</td>\n",
       "    </tr>\n",
       "    <tr>\n",
       "      <th>3</th>\n",
       "      <td>S01008829</td>\n",
       "      <td>2014</td>\n",
       "      <td>Median</td>\n",
       "      <td>Pounds (GBP)</td>\n",
       "      <td>673.90</td>\n",
       "    </tr>\n",
       "    <tr>\n",
       "      <th>4</th>\n",
       "      <td>S01008833</td>\n",
       "      <td>2014</td>\n",
       "      <td>Median</td>\n",
       "      <td>Pounds (GBP)</td>\n",
       "      <td>599.62</td>\n",
       "    </tr>\n",
       "    <tr>\n",
       "      <th>...</th>\n",
       "      <td>...</td>\n",
       "      <td>...</td>\n",
       "      <td>...</td>\n",
       "      <td>...</td>\n",
       "      <td>...</td>\n",
       "    </tr>\n",
       "    <tr>\n",
       "      <th>13935</th>\n",
       "      <td>S01011155</td>\n",
       "      <td>2014</td>\n",
       "      <td>Mean</td>\n",
       "      <td>Pounds (GBP)</td>\n",
       "      <td>558.75</td>\n",
       "    </tr>\n",
       "    <tr>\n",
       "      <th>13936</th>\n",
       "      <td>S01011153</td>\n",
       "      <td>2014</td>\n",
       "      <td>Mean</td>\n",
       "      <td>Pounds (GBP)</td>\n",
       "      <td>585.44</td>\n",
       "    </tr>\n",
       "    <tr>\n",
       "      <th>13937</th>\n",
       "      <td>S01011157</td>\n",
       "      <td>2014</td>\n",
       "      <td>Mean</td>\n",
       "      <td>Pounds (GBP)</td>\n",
       "      <td>658.94</td>\n",
       "    </tr>\n",
       "    <tr>\n",
       "      <th>13938</th>\n",
       "      <td>S01011158</td>\n",
       "      <td>2014</td>\n",
       "      <td>Mean</td>\n",
       "      <td>Pounds (GBP)</td>\n",
       "      <td>795.17</td>\n",
       "    </tr>\n",
       "    <tr>\n",
       "      <th>13939</th>\n",
       "      <td>S01011156</td>\n",
       "      <td>2014</td>\n",
       "      <td>Mean</td>\n",
       "      <td>Pounds (GBP)</td>\n",
       "      <td>733.39</td>\n",
       "    </tr>\n",
       "  </tbody>\n",
       "</table>\n",
       "<p>13940 rows × 5 columns</p>\n",
       "</div>"
      ],
      "text/plain": [
       "      FeatureCode  DateCode Measurement         Units   Value\n",
       "0       S01008830      2014      Median  Pounds (GBP)  659.91\n",
       "1       S01008831      2014      Median  Pounds (GBP)  632.69\n",
       "2       S01008828      2014      Median  Pounds (GBP)  649.25\n",
       "3       S01008829      2014      Median  Pounds (GBP)  673.90\n",
       "4       S01008833      2014      Median  Pounds (GBP)  599.62\n",
       "...           ...       ...         ...           ...     ...\n",
       "13935   S01011155      2014        Mean  Pounds (GBP)  558.75\n",
       "13936   S01011153      2014        Mean  Pounds (GBP)  585.44\n",
       "13937   S01011157      2014        Mean  Pounds (GBP)  658.94\n",
       "13938   S01011158      2014        Mean  Pounds (GBP)  795.17\n",
       "13939   S01011156      2014        Mean  Pounds (GBP)  733.39\n",
       "\n",
       "[13940 rows x 5 columns]"
      ]
     },
     "execution_count": 21,
     "metadata": {},
     "output_type": "execute_result"
    }
   ],
   "source": [
    "# slice the columns we need\n",
    "\n",
    "df2 = df.iloc[:,0:5]\n",
    "\n",
    "df2"
   ]
  },
  {
   "cell_type": "code",
   "execution_count": 25,
   "metadata": {},
   "outputs": [
    {
     "data": {
      "text/html": [
       "<div>\n",
       "<style scoped>\n",
       "    .dataframe tbody tr th:only-of-type {\n",
       "        vertical-align: middle;\n",
       "    }\n",
       "\n",
       "    .dataframe tbody tr th {\n",
       "        vertical-align: top;\n",
       "    }\n",
       "\n",
       "    .dataframe thead th {\n",
       "        text-align: right;\n",
       "    }\n",
       "</style>\n",
       "<table border=\"1\" class=\"dataframe\">\n",
       "  <thead>\n",
       "    <tr style=\"text-align: right;\">\n",
       "      <th></th>\n",
       "      <th>FeatureCode</th>\n",
       "      <th>Measurement</th>\n",
       "      <th>Value</th>\n",
       "    </tr>\n",
       "  </thead>\n",
       "  <tbody>\n",
       "    <tr>\n",
       "      <th>0</th>\n",
       "      <td>S01008830</td>\n",
       "      <td>Median</td>\n",
       "      <td>659.91</td>\n",
       "    </tr>\n",
       "    <tr>\n",
       "      <th>1</th>\n",
       "      <td>S01008831</td>\n",
       "      <td>Median</td>\n",
       "      <td>632.69</td>\n",
       "    </tr>\n",
       "    <tr>\n",
       "      <th>2</th>\n",
       "      <td>S01008828</td>\n",
       "      <td>Median</td>\n",
       "      <td>649.25</td>\n",
       "    </tr>\n",
       "    <tr>\n",
       "      <th>3</th>\n",
       "      <td>S01008829</td>\n",
       "      <td>Median</td>\n",
       "      <td>673.90</td>\n",
       "    </tr>\n",
       "    <tr>\n",
       "      <th>4</th>\n",
       "      <td>S01008833</td>\n",
       "      <td>Median</td>\n",
       "      <td>599.62</td>\n",
       "    </tr>\n",
       "    <tr>\n",
       "      <th>...</th>\n",
       "      <td>...</td>\n",
       "      <td>...</td>\n",
       "      <td>...</td>\n",
       "    </tr>\n",
       "    <tr>\n",
       "      <th>13935</th>\n",
       "      <td>S01011155</td>\n",
       "      <td>Mean</td>\n",
       "      <td>558.75</td>\n",
       "    </tr>\n",
       "    <tr>\n",
       "      <th>13936</th>\n",
       "      <td>S01011153</td>\n",
       "      <td>Mean</td>\n",
       "      <td>585.44</td>\n",
       "    </tr>\n",
       "    <tr>\n",
       "      <th>13937</th>\n",
       "      <td>S01011157</td>\n",
       "      <td>Mean</td>\n",
       "      <td>658.94</td>\n",
       "    </tr>\n",
       "    <tr>\n",
       "      <th>13938</th>\n",
       "      <td>S01011158</td>\n",
       "      <td>Mean</td>\n",
       "      <td>795.17</td>\n",
       "    </tr>\n",
       "    <tr>\n",
       "      <th>13939</th>\n",
       "      <td>S01011156</td>\n",
       "      <td>Mean</td>\n",
       "      <td>733.39</td>\n",
       "    </tr>\n",
       "  </tbody>\n",
       "</table>\n",
       "<p>13940 rows × 3 columns</p>\n",
       "</div>"
      ],
      "text/plain": [
       "      FeatureCode Measurement   Value\n",
       "0       S01008830      Median  659.91\n",
       "1       S01008831      Median  632.69\n",
       "2       S01008828      Median  649.25\n",
       "3       S01008829      Median  673.90\n",
       "4       S01008833      Median  599.62\n",
       "...           ...         ...     ...\n",
       "13935   S01011155        Mean  558.75\n",
       "13936   S01011153        Mean  585.44\n",
       "13937   S01011157        Mean  658.94\n",
       "13938   S01011158        Mean  795.17\n",
       "13939   S01011156        Mean  733.39\n",
       "\n",
       "[13940 rows x 3 columns]"
      ]
     },
     "execution_count": 25,
     "metadata": {},
     "output_type": "execute_result"
    }
   ],
   "source": [
    "# we only need three columns\n",
    "\n",
    "data = df[['FeatureCode', 'Measurement', 'Value']]\n",
    "\n",
    "data"
   ]
  },
  {
   "cell_type": "code",
   "execution_count": 26,
   "metadata": {},
   "outputs": [
    {
     "data": {
      "text/plain": [
       "FeatureCode    0\n",
       "Measurement    0\n",
       "Value          0\n",
       "dtype: int64"
      ]
     },
     "execution_count": 26,
     "metadata": {},
     "output_type": "execute_result"
    }
   ],
   "source": [
    "# check for missings\n",
    "\n",
    "data.isnull().sum()"
   ]
  },
  {
   "cell_type": "code",
   "execution_count": 31,
   "metadata": {},
   "outputs": [
    {
     "name": "stderr",
     "output_type": "stream",
     "text": [
      "<ipython-input-31-a19b4c360864>:3: SettingWithCopyWarning: \n",
      "A value is trying to be set on a copy of a slice from a DataFrame\n",
      "\n",
      "See the caveats in the documentation: https://pandas.pydata.org/pandas-docs/stable/user_guide/indexing.html#returning-a-view-versus-a-copy\n",
      "  data.query('Measurement == \"Median\"', inplace=True)\n"
     ]
    },
    {
     "data": {
      "text/html": [
       "<div>\n",
       "<style scoped>\n",
       "    .dataframe tbody tr th:only-of-type {\n",
       "        vertical-align: middle;\n",
       "    }\n",
       "\n",
       "    .dataframe tbody tr th {\n",
       "        vertical-align: top;\n",
       "    }\n",
       "\n",
       "    .dataframe thead th {\n",
       "        text-align: right;\n",
       "    }\n",
       "</style>\n",
       "<table border=\"1\" class=\"dataframe\">\n",
       "  <thead>\n",
       "    <tr style=\"text-align: right;\">\n",
       "      <th></th>\n",
       "      <th>FeatureCode</th>\n",
       "      <th>Measurement</th>\n",
       "      <th>Value</th>\n",
       "    </tr>\n",
       "  </thead>\n",
       "  <tbody>\n",
       "    <tr>\n",
       "      <th>0</th>\n",
       "      <td>S01008830</td>\n",
       "      <td>Median</td>\n",
       "      <td>659.91</td>\n",
       "    </tr>\n",
       "    <tr>\n",
       "      <th>1</th>\n",
       "      <td>S01008831</td>\n",
       "      <td>Median</td>\n",
       "      <td>632.69</td>\n",
       "    </tr>\n",
       "    <tr>\n",
       "      <th>2</th>\n",
       "      <td>S01008828</td>\n",
       "      <td>Median</td>\n",
       "      <td>649.25</td>\n",
       "    </tr>\n",
       "    <tr>\n",
       "      <th>3</th>\n",
       "      <td>S01008829</td>\n",
       "      <td>Median</td>\n",
       "      <td>673.90</td>\n",
       "    </tr>\n",
       "    <tr>\n",
       "      <th>4</th>\n",
       "      <td>S01008833</td>\n",
       "      <td>Median</td>\n",
       "      <td>599.62</td>\n",
       "    </tr>\n",
       "    <tr>\n",
       "      <th>...</th>\n",
       "      <td>...</td>\n",
       "      <td>...</td>\n",
       "      <td>...</td>\n",
       "    </tr>\n",
       "    <tr>\n",
       "      <th>6965</th>\n",
       "      <td>S01011155</td>\n",
       "      <td>Median</td>\n",
       "      <td>450.99</td>\n",
       "    </tr>\n",
       "    <tr>\n",
       "      <th>6966</th>\n",
       "      <td>S01011153</td>\n",
       "      <td>Median</td>\n",
       "      <td>484.53</td>\n",
       "    </tr>\n",
       "    <tr>\n",
       "      <th>6967</th>\n",
       "      <td>S01011157</td>\n",
       "      <td>Median</td>\n",
       "      <td>568.96</td>\n",
       "    </tr>\n",
       "    <tr>\n",
       "      <th>6968</th>\n",
       "      <td>S01011158</td>\n",
       "      <td>Median</td>\n",
       "      <td>653.14</td>\n",
       "    </tr>\n",
       "    <tr>\n",
       "      <th>6969</th>\n",
       "      <td>S01011156</td>\n",
       "      <td>Median</td>\n",
       "      <td>654.04</td>\n",
       "    </tr>\n",
       "  </tbody>\n",
       "</table>\n",
       "<p>6970 rows × 3 columns</p>\n",
       "</div>"
      ],
      "text/plain": [
       "     FeatureCode Measurement   Value\n",
       "0      S01008830      Median  659.91\n",
       "1      S01008831      Median  632.69\n",
       "2      S01008828      Median  649.25\n",
       "3      S01008829      Median  673.90\n",
       "4      S01008833      Median  599.62\n",
       "...          ...         ...     ...\n",
       "6965   S01011155      Median  450.99\n",
       "6966   S01011153      Median  484.53\n",
       "6967   S01011157      Median  568.96\n",
       "6968   S01011158      Median  653.14\n",
       "6969   S01011156      Median  654.04\n",
       "\n",
       "[6970 rows x 3 columns]"
      ]
     },
     "execution_count": 31,
     "metadata": {},
     "output_type": "execute_result"
    }
   ],
   "source": [
    "# filter by measurement - we want median incomes\n",
    "\n",
    "data.query('Measurement == \"Median\"', inplace=True)\n",
    "data"
   ]
  },
  {
   "cell_type": "code",
   "execution_count": 32,
   "metadata": {},
   "outputs": [],
   "source": [
    "median_income =  data['Value']"
   ]
  },
  {
   "cell_type": "code",
   "execution_count": 36,
   "metadata": {},
   "outputs": [
    {
     "data": {
      "text/plain": [
       "count    6970.000000\n",
       "mean      589.206674\n",
       "std       155.801329\n",
       "min       280.000000\n",
       "25%       479.375000\n",
       "50%       554.565000\n",
       "75%       670.425000\n",
       "max      1430.600000\n",
       "Name: Value, dtype: float64"
      ]
     },
     "execution_count": 36,
     "metadata": {},
     "output_type": "execute_result"
    }
   ],
   "source": [
    "# what is the range of median income in local areas?\n",
    "\n",
    "median_income.describe()"
   ]
  },
  {
   "cell_type": "markdown",
   "metadata": {},
   "source": [
    "#### Graphs"
   ]
  },
  {
   "cell_type": "code",
   "execution_count": 35,
   "metadata": {},
   "outputs": [
    {
     "data": {
      "image/png": "[encoded data removed]",
      "text/plain": [
       "<Figure size 432x288 with 1 Axes>"
      ]
     },
     "metadata": {
      "needs_background": "light"
     },
     "output_type": "display_data"
    }
   ],
   "source": [
    "# histogram\n",
    "\n",
    "fig,ax = plt.subplots(1,1)\n",
    "ax.hist(median_income)\n",
    "ax.set_title('Histogram of median income')\n",
    "ax.set_xlabel('£')\n",
    "ax.set_ylabel('N local areas')\n",
    "plt.show()"
   ]
  },
  {
   "cell_type": "code",
   "execution_count": 37,
   "metadata": {},
   "outputs": [
    {
     "data": {
      "text/plain": [
       "<AxesSubplot:>"
      ]
     },
     "execution_count": 37,
     "metadata": {},
     "output_type": "execute_result"
    },
    {
     "data": {
      "image/png": "[encoded data removed]",
      "text/plain": [
       "<Figure size 432x288 with 1 Axes>"
      ]
     },
     "metadata": {
      "needs_background": "light"
     },
     "output_type": "display_data"
    }
   ],
   "source": [
    "# boxplot - simple code\n",
    "\n",
    "median_income.plot.box()"
   ]
  },
  {
   "cell_type": "code",
   "execution_count": 57,
   "metadata": {},
   "outputs": [
    {
     "data": {
      "image/png": "[encoded data removed]",
      "text/plain": [
       "<Figure size 432x288 with 1 Axes>"
      ]
     },
     "metadata": {
      "needs_background": "light"
     },
     "output_type": "display_data"
    }
   ],
   "source": [
    "fig = plt.figure()\n",
    "# Create an axes instance\n",
    "ax = fig.add_axes([0,0,1,1])\n",
    "# Create the boxplot\n",
    "bp = ax.boxplot(median_income)\n",
    "ax.set_title('Median income')\n",
    "plt.show()"
   ]
  },
  {
   "cell_type": "code",
   "execution_count": 69,
   "metadata": {},
   "outputs": [
    {
     "data": {
      "text/plain": [
       "S01012599    2\n",
       "S01008305    2\n",
       "S01010130    2\n",
       "S01012391    2\n",
       "S01007123    2\n",
       "            ..\n",
       "S01009452    2\n",
       "S01007403    2\n",
       "S01010270    2\n",
       "S01008064    2\n",
       "S01009088    2\n",
       "Name: FeatureCode, Length: 6970, dtype: int64"
      ]
     },
     "execution_count": 69,
     "metadata": {},
     "output_type": "execute_result"
    }
   ],
   "source": [
    "# want to organise mean income to its own column for same area code\n",
    "\n",
    "# check values of area code - duplicates\n",
    "\n",
    "df['FeatureCode'].value_counts()"
   ]
  },
  {
   "cell_type": "code",
   "execution_count": 76,
   "metadata": {},
   "outputs": [
    {
     "name": "stdout",
     "output_type": "stream",
     "text": [
      "(13940, 3)\n"
     ]
    }
   ],
   "source": [
    "# to wide format\n",
    "\n",
    "df_select = df[['FeatureCode', 'Measurement', 'Value' ]]\n",
    "print(df_select.shape)"
   ]
  },
  {
   "cell_type": "code",
   "execution_count": 88,
   "metadata": {},
   "outputs": [
    {
     "data": {
      "text/html": [
       "<div>\n",
       "<style scoped>\n",
       "    .dataframe tbody tr th:only-of-type {\n",
       "        vertical-align: middle;\n",
       "    }\n",
       "\n",
       "    .dataframe tbody tr th {\n",
       "        vertical-align: top;\n",
       "    }\n",
       "\n",
       "    .dataframe thead th {\n",
       "        text-align: right;\n",
       "    }\n",
       "</style>\n",
       "<table border=\"1\" class=\"dataframe\">\n",
       "  <thead>\n",
       "    <tr style=\"text-align: right;\">\n",
       "      <th>Measurement</th>\n",
       "      <th>Mean</th>\n",
       "      <th>Median</th>\n",
       "    </tr>\n",
       "    <tr>\n",
       "      <th>FeatureCode</th>\n",
       "      <th></th>\n",
       "      <th></th>\n",
       "    </tr>\n",
       "  </thead>\n",
       "  <tbody>\n",
       "    <tr>\n",
       "      <th>S01006506</th>\n",
       "      <td>834.64</td>\n",
       "      <td>707.34</td>\n",
       "    </tr>\n",
       "    <tr>\n",
       "      <th>S01006507</th>\n",
       "      <td>785.52</td>\n",
       "      <td>675.01</td>\n",
       "    </tr>\n",
       "    <tr>\n",
       "      <th>S01006508</th>\n",
       "      <td>845.28</td>\n",
       "      <td>733.30</td>\n",
       "    </tr>\n",
       "    <tr>\n",
       "      <th>S01006509</th>\n",
       "      <td>755.40</td>\n",
       "      <td>647.07</td>\n",
       "    </tr>\n",
       "    <tr>\n",
       "      <th>S01006510</th>\n",
       "      <td>799.42</td>\n",
       "      <td>660.70</td>\n",
       "    </tr>\n",
       "    <tr>\n",
       "      <th>...</th>\n",
       "      <td>...</td>\n",
       "      <td>...</td>\n",
       "    </tr>\n",
       "    <tr>\n",
       "      <th>S01013477</th>\n",
       "      <td>563.41</td>\n",
       "      <td>460.60</td>\n",
       "    </tr>\n",
       "    <tr>\n",
       "      <th>S01013478</th>\n",
       "      <td>750.16</td>\n",
       "      <td>661.19</td>\n",
       "    </tr>\n",
       "    <tr>\n",
       "      <th>S01013479</th>\n",
       "      <td>519.55</td>\n",
       "      <td>418.60</td>\n",
       "    </tr>\n",
       "    <tr>\n",
       "      <th>S01013480</th>\n",
       "      <td>553.10</td>\n",
       "      <td>461.01</td>\n",
       "    </tr>\n",
       "    <tr>\n",
       "      <th>S01013481</th>\n",
       "      <td>746.56</td>\n",
       "      <td>628.47</td>\n",
       "    </tr>\n",
       "  </tbody>\n",
       "</table>\n",
       "<p>6970 rows × 2 columns</p>\n",
       "</div>"
      ],
      "text/plain": [
       "Measurement    Mean  Median\n",
       "FeatureCode                \n",
       "S01006506    834.64  707.34\n",
       "S01006507    785.52  675.01\n",
       "S01006508    845.28  733.30\n",
       "S01006509    755.40  647.07\n",
       "S01006510    799.42  660.70\n",
       "...             ...     ...\n",
       "S01013477    563.41  460.60\n",
       "S01013478    750.16  661.19\n",
       "S01013479    519.55  418.60\n",
       "S01013480    553.10  461.01\n",
       "S01013481    746.56  628.47\n",
       "\n",
       "[6970 rows x 2 columns]"
      ]
     },
     "execution_count": 88,
     "metadata": {},
     "output_type": "execute_result"
    }
   ],
   "source": [
    "table = pd.pivot_table(df_select, values = 'Value',\n",
    "               index=['FeatureCode'],\n",
    "               columns = 'Measurement')\n",
    "\n",
    "table"
   ]
  },
  {
   "cell_type": "code",
   "execution_count": 98,
   "metadata": {},
   "outputs": [
    {
     "data": {
      "text/html": [
       "<div>\n",
       "<style scoped>\n",
       "    .dataframe tbody tr th:only-of-type {\n",
       "        vertical-align: middle;\n",
       "    }\n",
       "\n",
       "    .dataframe tbody tr th {\n",
       "        vertical-align: top;\n",
       "    }\n",
       "\n",
       "    .dataframe thead th {\n",
       "        text-align: right;\n",
       "    }\n",
       "</style>\n",
       "<table border=\"1\" class=\"dataframe\">\n",
       "  <thead>\n",
       "    <tr style=\"text-align: right;\">\n",
       "      <th>Measurement</th>\n",
       "      <th>Mean</th>\n",
       "      <th>Median</th>\n",
       "    </tr>\n",
       "    <tr>\n",
       "      <th>FeatureCode</th>\n",
       "      <th></th>\n",
       "      <th></th>\n",
       "    </tr>\n",
       "  </thead>\n",
       "  <tbody>\n",
       "    <tr>\n",
       "      <th>S01006506</th>\n",
       "      <td>834.64</td>\n",
       "      <td>707.34</td>\n",
       "    </tr>\n",
       "    <tr>\n",
       "      <th>S01006507</th>\n",
       "      <td>785.52</td>\n",
       "      <td>675.01</td>\n",
       "    </tr>\n",
       "    <tr>\n",
       "      <th>S01006508</th>\n",
       "      <td>845.28</td>\n",
       "      <td>733.30</td>\n",
       "    </tr>\n",
       "    <tr>\n",
       "      <th>S01006509</th>\n",
       "      <td>755.40</td>\n",
       "      <td>647.07</td>\n",
       "    </tr>\n",
       "    <tr>\n",
       "      <th>S01006510</th>\n",
       "      <td>799.42</td>\n",
       "      <td>660.70</td>\n",
       "    </tr>\n",
       "    <tr>\n",
       "      <th>...</th>\n",
       "      <td>...</td>\n",
       "      <td>...</td>\n",
       "    </tr>\n",
       "    <tr>\n",
       "      <th>S01013477</th>\n",
       "      <td>563.41</td>\n",
       "      <td>460.60</td>\n",
       "    </tr>\n",
       "    <tr>\n",
       "      <th>S01013478</th>\n",
       "      <td>750.16</td>\n",
       "      <td>661.19</td>\n",
       "    </tr>\n",
       "    <tr>\n",
       "      <th>S01013479</th>\n",
       "      <td>519.55</td>\n",
       "      <td>418.60</td>\n",
       "    </tr>\n",
       "    <tr>\n",
       "      <th>S01013480</th>\n",
       "      <td>553.10</td>\n",
       "      <td>461.01</td>\n",
       "    </tr>\n",
       "    <tr>\n",
       "      <th>S01013481</th>\n",
       "      <td>746.56</td>\n",
       "      <td>628.47</td>\n",
       "    </tr>\n",
       "  </tbody>\n",
       "</table>\n",
       "<p>6970 rows × 2 columns</p>\n",
       "</div>"
      ],
      "text/plain": [
       "Measurement    Mean  Median\n",
       "FeatureCode                \n",
       "S01006506    834.64  707.34\n",
       "S01006507    785.52  675.01\n",
       "S01006508    845.28  733.30\n",
       "S01006509    755.40  647.07\n",
       "S01006510    799.42  660.70\n",
       "...             ...     ...\n",
       "S01013477    563.41  460.60\n",
       "S01013478    750.16  661.19\n",
       "S01013479    519.55  418.60\n",
       "S01013480    553.10  461.01\n",
       "S01013481    746.56  628.47\n",
       "\n",
       "[6970 rows x 2 columns]"
      ]
     },
     "execution_count": 98,
     "metadata": {},
     "output_type": "execute_result"
    }
   ],
   "source": [
    "# do we still have duplicate area codes?\n",
    "\n",
    "\n",
    "table.sort_values(by='FeatureCode', ascending=True)"
   ]
  },
  {
   "cell_type": "markdown",
   "metadata": {},
   "source": [
    "#### Now let's plot both mean and median\n"
   ]
  },
  {
   "cell_type": "code",
   "execution_count": 100,
   "metadata": {},
   "outputs": [
    {
     "data": {
      "text/plain": [
       "<AxesSubplot:>"
      ]
     },
     "execution_count": 100,
     "metadata": {},
     "output_type": "execute_result"
    },
    {
     "data": {
      "image/png": "[encoded data removed]",
      "text/plain": [
       "<Figure size 432x288 with 1 Axes>"
      ]
     },
     "metadata": {
      "needs_background": "light"
     },
     "output_type": "display_data"
    }
   ],
   "source": [
    "##how to plot both mean and median\n",
    "df = pd.DataFrame(table, columns=['Mean', 'Median'])\n",
    "df.plot.box()\n"
   ]
  },
  {
   "cell_type": "code",
   "execution_count": 118,
   "metadata": {},
   "outputs": [
    {
     "data": {
      "image/png": "[encoded data removed]",
      "text/plain": [
       "<Figure size 432x288 with 1 Axes>"
      ]
     },
     "metadata": {
      "needs_background": "light"
     },
     "output_type": "display_data"
    }
   ],
   "source": [
    "# Multiple box plots on one Axes\n",
    "fig = plt.figure()\n",
    "# Create an axes instance\n",
    "ax = fig.add_axes([0,0,1,1])\n",
    "# Create the boxplot\n",
    "bp = ax.boxplot(table)\n",
    "ax.set_title('Mean and median income')\n",
    "ax.set_xlabel('£')\n",
    "ax.set_ylabel('N local areas')\n",
    "ax.set_xticks([1, 2])\n",
    "ax.set_xticklabels(['Mean', 'Median'])\n",
    "plt.show()\n"
   ]
  },
  {
   "cell_type": "code",
   "execution_count": null,
   "metadata": {},
   "outputs": [],
   "source": []
  }
 ],
 "metadata": {
  "kernelspec": {
   "display_name": "Python 3",
   "language": "python",
   "name": "python3"
  },
  "language_info": {
   "codemirror_mode": {
    "name": "ipython",
    "version": 3
   },
   "file_extension": ".py",
   "mimetype": "text/x-python",
   "name": "python",
   "nbconvert_exporter": "python",
   "pygments_lexer": "ipython3",
   "version": "3.8.3"
  }
 },
 "nbformat": 4,
 "nbformat_minor": 4
}
